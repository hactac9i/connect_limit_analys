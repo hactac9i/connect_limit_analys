{
 "cells": [
  {
   "attachments": {},
   "cell_type": "markdown",
   "metadata": {},
   "source": [
    "Задача состоит в том, чтобы оценить, сколько в пиковые моменты потребления у нас в\n",
    "эти дни происходило одновременных соединений с документами (ситуация в которой несколько пользователей одновременно находятся внутри документа) и визуализировать на\n",
    "подходящей для этого диаграмме.\n",
    "\n",
    "Сейчас на всех серверах\n",
    "одновременно, исходя из нашего тарифа, мы можем предоставить пользователям не\n",
    "более 3000 одновременных подключений.\n",
    "\n",
    "В результате анализа нужно увидеть, насколько далеко мы от  лимитов в 3000 одновремнных подключений к документу. Также\n",
    "найти в данных, что сильнее всего влияет на величину одновременных подключений.\n",
    "Т.е. если бы мы захотели их уменьшить, с какого типа пользователей или порталов нам\n",
    "стоило бы начать."
   ]
  },
  {
   "attachments": {},
   "cell_type": "markdown",
   "metadata": {},
   "source": [
    "Предполагаемый алоритм выполнения:\n",
    "1. Просмотр информации о данных: пропуски, уникальные значения, формат даннных и т.п.\n",
    "2. Создание нового столбца, который будет содержать значение 1 для каждой строки (с целью дальнейшего подсчета количества подлючений).\n",
    "3. Создание нового столбца с длительностью подключения -  разница между `start_edit_time` и `conn_end_time`.\n",
    "4. Группировка данных по времени и подсчет общего количества подключений для каждого временного интервала.\n",
    "5. Создание линейной диаграммы для визуализироования количества одновременных подключений во времени.\n",
    "6. Определить максимальное количество одновременных подключений и сравнить его с лимитом в 3000.\n",
    "7. Используя группировку и агрегацию, определить, какие типы пользователей или порталов имеют наибольшее влияние на количество одновременных подключений.\n",
    "8. Выводы и рекомендации для уменьшения количества одновременных подключений, если это необходимо."
   ]
  },
  {
   "cell_type": "code",
   "execution_count": 41,
   "metadata": {},
   "outputs": [],
   "source": [
    "import pandas as pd\n",
    "import numpy as np\n",
    "import seaborn as sns\n",
    "import matplotlib.pyplot as plt"
   ]
  },
  {
   "cell_type": "code",
   "execution_count": 42,
   "metadata": {},
   "outputs": [
    {
     "name": "stdout",
     "output_type": "stream",
     "text": [
      "<class 'pandas.core.frame.DataFrame'>\n",
      "RangeIndex: 103486 entries, 0 to 103485\n",
      "Data columns (total 8 columns):\n",
      " #   Column           Non-Null Count   Dtype  \n",
      "---  ------           --------------   -----  \n",
      " 0   server           103485 non-null  object \n",
      " 1   portal_type      103484 non-null  object \n",
      " 2   db_name          103484 non-null  object \n",
      " 3   tariff_id        103484 non-null  object \n",
      " 4   user             103484 non-null  object \n",
      " 5   doc_id           103484 non-null  float64\n",
      " 6   start_edit_time  103484 non-null  object \n",
      " 7   conn_end_time    103484 non-null  object \n",
      "dtypes: float64(1), object(7)\n",
      "memory usage: 6.3+ MB\n"
     ]
    }
   ],
   "source": [
    "data = pd.read_csv(r'task_data.csv')\n",
    "data.info()\n",
    "# общая информация о датасете"
   ]
  },
  {
   "cell_type": "code",
   "execution_count": 43,
   "metadata": {},
   "outputs": [
    {
     "data": {
      "text/plain": [
       "server                 5\n",
       "portal_type            2\n",
       "db_name             9297\n",
       "tariff_id            141\n",
       "user               34653\n",
       "doc_id             96304\n",
       "start_edit_time    66728\n",
       "conn_end_time      64301\n",
       "dtype: int64"
      ]
     },
     "execution_count": 43,
     "metadata": {},
     "output_type": "execute_result"
    }
   ],
   "source": [
    "data_counts = data.nunique()\n",
    "data_counts"
   ]
  },
  {
   "cell_type": "code",
   "execution_count": 44,
   "metadata": {},
   "outputs": [
    {
     "data": {
      "text/html": [
       "<div>\n",
       "<style scoped>\n",
       "    .dataframe tbody tr th:only-of-type {\n",
       "        vertical-align: middle;\n",
       "    }\n",
       "\n",
       "    .dataframe tbody tr th {\n",
       "        vertical-align: top;\n",
       "    }\n",
       "\n",
       "    .dataframe thead th {\n",
       "        text-align: right;\n",
       "    }\n",
       "</style>\n",
       "<table border=\"1\" class=\"dataframe\">\n",
       "  <thead>\n",
       "    <tr style=\"text-align: right;\">\n",
       "      <th></th>\n",
       "      <th>server</th>\n",
       "      <th>portal_type</th>\n",
       "      <th>db_name</th>\n",
       "      <th>tariff_id</th>\n",
       "      <th>user</th>\n",
       "      <th>doc_id</th>\n",
       "      <th>start_edit_time</th>\n",
       "      <th>conn_end_time</th>\n",
       "    </tr>\n",
       "  </thead>\n",
       "  <tbody>\n",
       "    <tr>\n",
       "      <th>0</th>\n",
       "      <td>de</td>\n",
       "      <td>box</td>\n",
       "      <td>augcrm.com</td>\n",
       "      <td>box</td>\n",
       "      <td>137augcrm.com</td>\n",
       "      <td>2.152628e+09</td>\n",
       "      <td>12/4/2022 8:07:25 AM</td>\n",
       "      <td>12/5/2022 9:39:44 AM</td>\n",
       "    </tr>\n",
       "    <tr>\n",
       "      <th>1</th>\n",
       "      <td>de</td>\n",
       "      <td>box</td>\n",
       "      <td>portal.dalidovitch.com</td>\n",
       "      <td>box</td>\n",
       "      <td>5193portal.dalidovitch.com</td>\n",
       "      <td>3.846962e+09</td>\n",
       "      <td>12/4/2022 3:14:08 PM</td>\n",
       "      <td>12/5/2022 9:11:30 AM</td>\n",
       "    </tr>\n",
       "    <tr>\n",
       "      <th>2</th>\n",
       "      <td>ms</td>\n",
       "      <td>cloud</td>\n",
       "      <td>b22452522</td>\n",
       "      <td>ru_pro100</td>\n",
       "      <td>148b22452522</td>\n",
       "      <td>2.382197e+09</td>\n",
       "      <td>12/4/2022 8:14:43 PM</td>\n",
       "      <td>12/5/2022 12:00:26 AM</td>\n",
       "    </tr>\n",
       "    <tr>\n",
       "      <th>3</th>\n",
       "      <td>us</td>\n",
       "      <td>cloud</td>\n",
       "      <td>b14804373</td>\n",
       "      <td>la_std</td>\n",
       "      <td>1b14804373</td>\n",
       "      <td>2.372717e+09</td>\n",
       "      <td>12/4/2022 9:08:03 PM</td>\n",
       "      <td>12/5/2022 3:57:19 AM</td>\n",
       "    </tr>\n",
       "    <tr>\n",
       "      <th>4</th>\n",
       "      <td>ru</td>\n",
       "      <td>cloud</td>\n",
       "      <td>b12009830</td>\n",
       "      <td>ru_company</td>\n",
       "      <td>250603b12009830</td>\n",
       "      <td>3.757262e+09</td>\n",
       "      <td>12/4/2022 9:42:07 PM</td>\n",
       "      <td>12/5/2022 1:19:32 AM</td>\n",
       "    </tr>\n",
       "  </tbody>\n",
       "</table>\n",
       "</div>"
      ],
      "text/plain": [
       "  server portal_type                 db_name   tariff_id  \\\n",
       "0     de         box              augcrm.com         box   \n",
       "1     de         box  portal.dalidovitch.com         box   \n",
       "2     ms       cloud               b22452522   ru_pro100   \n",
       "3     us       cloud               b14804373      la_std   \n",
       "4     ru       cloud               b12009830  ru_company   \n",
       "\n",
       "                         user        doc_id       start_edit_time  \\\n",
       "0               137augcrm.com  2.152628e+09  12/4/2022 8:07:25 AM   \n",
       "1  5193portal.dalidovitch.com  3.846962e+09  12/4/2022 3:14:08 PM   \n",
       "2                148b22452522  2.382197e+09  12/4/2022 8:14:43 PM   \n",
       "3                  1b14804373  2.372717e+09  12/4/2022 9:08:03 PM   \n",
       "4             250603b12009830  3.757262e+09  12/4/2022 9:42:07 PM   \n",
       "\n",
       "           conn_end_time  \n",
       "0   12/5/2022 9:39:44 AM  \n",
       "1   12/5/2022 9:11:30 AM  \n",
       "2  12/5/2022 12:00:26 AM  \n",
       "3   12/5/2022 3:57:19 AM  \n",
       "4   12/5/2022 1:19:32 AM  "
      ]
     },
     "execution_count": 44,
     "metadata": {},
     "output_type": "execute_result"
    }
   ],
   "source": [
    "data.head()"
   ]
  },
  {
   "cell_type": "code",
   "execution_count": 45,
   "metadata": {},
   "outputs": [
    {
     "data": {
      "text/html": [
       "<div>\n",
       "<style scoped>\n",
       "    .dataframe tbody tr th:only-of-type {\n",
       "        vertical-align: middle;\n",
       "    }\n",
       "\n",
       "    .dataframe tbody tr th {\n",
       "        vertical-align: top;\n",
       "    }\n",
       "\n",
       "    .dataframe thead th {\n",
       "        text-align: right;\n",
       "    }\n",
       "</style>\n",
       "<table border=\"1\" class=\"dataframe\">\n",
       "  <thead>\n",
       "    <tr style=\"text-align: right;\">\n",
       "      <th></th>\n",
       "      <th>server</th>\n",
       "      <th>portal_type</th>\n",
       "      <th>db_name</th>\n",
       "      <th>tariff_id</th>\n",
       "      <th>user</th>\n",
       "      <th>doc_id</th>\n",
       "      <th>start_edit_time</th>\n",
       "      <th>conn_end_time</th>\n",
       "    </tr>\n",
       "  </thead>\n",
       "  <tbody>\n",
       "    <tr>\n",
       "      <th>103481</th>\n",
       "      <td>ms</td>\n",
       "      <td>cloud</td>\n",
       "      <td>b3162457</td>\n",
       "      <td>ru_pro</td>\n",
       "      <td>134078b3162457</td>\n",
       "      <td>4.444441e+06</td>\n",
       "      <td>12/6/2022 11:57:07 PM</td>\n",
       "      <td>12/6/2022 11:59:55 PM</td>\n",
       "    </tr>\n",
       "    <tr>\n",
       "      <th>103482</th>\n",
       "      <td>de</td>\n",
       "      <td>box</td>\n",
       "      <td>asesores-e.net</td>\n",
       "      <td>box</td>\n",
       "      <td>20089asesores-e.net</td>\n",
       "      <td>2.740667e+09</td>\n",
       "      <td>12/6/2022 11:57:18 PM</td>\n",
       "      <td>12/7/2022 1:01:16 AM</td>\n",
       "    </tr>\n",
       "    <tr>\n",
       "      <th>103483</th>\n",
       "      <td>us</td>\n",
       "      <td>cloud</td>\n",
       "      <td>b22043033</td>\n",
       "      <td>br_std</td>\n",
       "      <td>17b22043033</td>\n",
       "      <td>1.361046e+09</td>\n",
       "      <td>12/6/2022 11:58:00 PM</td>\n",
       "      <td>12/6/2022 11:58:25 PM</td>\n",
       "    </tr>\n",
       "    <tr>\n",
       "      <th>103484</th>\n",
       "      <td>NaN</td>\n",
       "      <td>NaN</td>\n",
       "      <td>NaN</td>\n",
       "      <td>NaN</td>\n",
       "      <td>NaN</td>\n",
       "      <td>NaN</td>\n",
       "      <td>NaN</td>\n",
       "      <td>NaN</td>\n",
       "    </tr>\n",
       "    <tr>\n",
       "      <th>103485</th>\n",
       "      <td>Applied filters:\\nIncluded (3) 2022 (Year) + Q...</td>\n",
       "      <td>NaN</td>\n",
       "      <td>NaN</td>\n",
       "      <td>NaN</td>\n",
       "      <td>NaN</td>\n",
       "      <td>NaN</td>\n",
       "      <td>NaN</td>\n",
       "      <td>NaN</td>\n",
       "    </tr>\n",
       "  </tbody>\n",
       "</table>\n",
       "</div>"
      ],
      "text/plain": [
       "                                                   server portal_type  \\\n",
       "103481                                                 ms       cloud   \n",
       "103482                                                 de         box   \n",
       "103483                                                 us       cloud   \n",
       "103484                                                NaN         NaN   \n",
       "103485  Applied filters:\\nIncluded (3) 2022 (Year) + Q...         NaN   \n",
       "\n",
       "               db_name tariff_id                 user        doc_id  \\\n",
       "103481        b3162457    ru_pro       134078b3162457  4.444441e+06   \n",
       "103482  asesores-e.net       box  20089asesores-e.net  2.740667e+09   \n",
       "103483       b22043033    br_std          17b22043033  1.361046e+09   \n",
       "103484             NaN       NaN                  NaN           NaN   \n",
       "103485             NaN       NaN                  NaN           NaN   \n",
       "\n",
       "              start_edit_time          conn_end_time  \n",
       "103481  12/6/2022 11:57:07 PM  12/6/2022 11:59:55 PM  \n",
       "103482  12/6/2022 11:57:18 PM   12/7/2022 1:01:16 AM  \n",
       "103483  12/6/2022 11:58:00 PM  12/6/2022 11:58:25 PM  \n",
       "103484                    NaN                    NaN  \n",
       "103485                    NaN                    NaN  "
      ]
     },
     "execution_count": 45,
     "metadata": {},
     "output_type": "execute_result"
    }
   ],
   "source": [
    "data.tail()"
   ]
  },
  {
   "attachments": {},
   "cell_type": "markdown",
   "metadata": {},
   "source": [
    "Видим незначимые строки в конце датасета. Проверим количество пропусков по всей таблице"
   ]
  },
  {
   "cell_type": "code",
   "execution_count": 46,
   "metadata": {},
   "outputs": [
    {
     "data": {
      "text/plain": [
       "server             1\n",
       "portal_type        2\n",
       "db_name            2\n",
       "tariff_id          2\n",
       "user               2\n",
       "doc_id             2\n",
       "start_edit_time    2\n",
       "conn_end_time      2\n",
       "dtype: int64"
      ]
     },
     "execution_count": 46,
     "metadata": {},
     "output_type": "execute_result"
    }
   ],
   "source": [
    "data.isnull().sum(axis=0)\n",
    "data.isna().sum(axis=0)"
   ]
  },
  {
   "attachments": {},
   "cell_type": "markdown",
   "metadata": {},
   "source": [
    "Обнаруживаем, что причина пропусков в последних двух строках - удалим их:"
   ]
  },
  {
   "cell_type": "code",
   "execution_count": 47,
   "metadata": {},
   "outputs": [],
   "source": [
    "data = data.drop(labels=[103484,103485], axis=0)"
   ]
  },
  {
   "attachments": {},
   "cell_type": "markdown",
   "metadata": {},
   "source": [
    "Создаем новый столбец, содержащий int значение 1, для дальнейшего подсчета подключений:"
   ]
  },
  {
   "cell_type": "code",
   "execution_count": 48,
   "metadata": {},
   "outputs": [],
   "source": [
    "data['connections'] = 1"
   ]
  },
  {
   "attachments": {},
   "cell_type": "markdown",
   "metadata": {},
   "source": [
    "Приведем столбцы с датами/временем к нужному формату:"
   ]
  },
  {
   "cell_type": "code",
   "execution_count": 49,
   "metadata": {},
   "outputs": [],
   "source": [
    "data['start_edit_time'] = pd.to_datetime(data['start_edit_time'], format='%m/%d/%Y %I:%M:%S %p')\n",
    "data['conn_end_time'] = pd.to_datetime(data['conn_end_time'], format='%m/%d/%Y %I:%M:%S %p')"
   ]
  },
  {
   "attachments": {},
   "cell_type": "markdown",
   "metadata": {},
   "source": [
    "Отдельно рассмотрим оба столбца, чтоб не упустить возможные ошибки при сохранении/передачи данных:"
   ]
  },
  {
   "cell_type": "code",
   "execution_count": 50,
   "metadata": {},
   "outputs": [
    {
     "name": "stderr",
     "output_type": "stream",
     "text": [
      "C:\\Users\\orlov\\AppData\\Local\\Temp\\ipykernel_9820\\137691672.py:1: FutureWarning: Treating datetime data as categorical rather than numeric in `.describe` is deprecated and will be removed in a future version of pandas. Specify `datetime_is_numeric=True` to silence this warning and adopt the future behavior now.\n",
      "  data['start_edit_time'].describe()\n"
     ]
    },
    {
     "data": {
      "text/plain": [
       "count                  103484\n",
       "unique                  66728\n",
       "top       2022-12-06 13:31:30\n",
       "freq                       10\n",
       "first     2022-12-04 08:07:25\n",
       "last      2022-12-06 23:58:00\n",
       "Name: start_edit_time, dtype: object"
      ]
     },
     "execution_count": 50,
     "metadata": {},
     "output_type": "execute_result"
    }
   ],
   "source": [
    "data['start_edit_time'].describe()"
   ]
  },
  {
   "cell_type": "code",
   "execution_count": 51,
   "metadata": {},
   "outputs": [
    {
     "data": {
      "text/plain": [
       "False    103484\n",
       "Name: start_edit_time, dtype: int64"
      ]
     },
     "execution_count": 51,
     "metadata": {},
     "output_type": "execute_result"
    }
   ],
   "source": [
    "data['start_edit_time'].isnull().value_counts()"
   ]
  },
  {
   "cell_type": "code",
   "execution_count": 52,
   "metadata": {},
   "outputs": [
    {
     "name": "stderr",
     "output_type": "stream",
     "text": [
      "C:\\Users\\orlov\\AppData\\Local\\Temp\\ipykernel_9820\\3228499562.py:1: FutureWarning: Treating datetime data as categorical rather than numeric in `.describe` is deprecated and will be removed in a future version of pandas. Specify `datetime_is_numeric=True` to silence this warning and adopt the future behavior now.\n",
      "  data['conn_end_time'].describe()\n"
     ]
    },
    {
     "data": {
      "text/plain": [
       "count                  103484\n",
       "unique                  64301\n",
       "top       2022-12-06 13:31:30\n",
       "freq                       46\n",
       "first     2022-12-05 00:00:01\n",
       "last      2022-12-07 01:30:50\n",
       "Name: conn_end_time, dtype: object"
      ]
     },
     "execution_count": 52,
     "metadata": {},
     "output_type": "execute_result"
    }
   ],
   "source": [
    "data['conn_end_time'].describe()"
   ]
  },
  {
   "cell_type": "code",
   "execution_count": 53,
   "metadata": {},
   "outputs": [
    {
     "data": {
      "text/plain": [
       "False    103484\n",
       "Name: conn_end_time, dtype: int64"
      ]
     },
     "execution_count": 53,
     "metadata": {},
     "output_type": "execute_result"
    }
   ],
   "source": [
    "data['conn_end_time'].isnull().value_counts()"
   ]
  },
  {
   "attachments": {},
   "cell_type": "markdown",
   "metadata": {},
   "source": [
    "Пропущенных значений нет, аномалий не обнаружено. \n",
    "Можно приступить к созданию нового столбца, содержащего количество времени, проведенному внутри документа для каждой строки"
   ]
  },
  {
   "cell_type": "code",
   "execution_count": 54,
   "metadata": {},
   "outputs": [
    {
     "data": {
      "text/plain": [
       "0         1532.32\n",
       "1         1077.37\n",
       "2          225.72\n",
       "3          409.27\n",
       "4          217.42\n",
       "           ...   \n",
       "103479       2.98\n",
       "103480      33.95\n",
       "103481       2.80\n",
       "103482      63.97\n",
       "103483       0.42\n",
       "Name: time_diff_minutes, Length: 103484, dtype: float64"
      ]
     },
     "execution_count": 54,
     "metadata": {},
     "output_type": "execute_result"
    }
   ],
   "source": [
    "data['time_diff_minutes'] = round((data['conn_end_time'] - data[\"start_edit_time\"]).dt.total_seconds() / 60 , 2)\n",
    "data['time_diff_minutes']"
   ]
  },
  {
   "attachments": {},
   "cell_type": "markdown",
   "metadata": {},
   "source": [
    "Посмотрим на статитистику полученного столбца:"
   ]
  },
  {
   "cell_type": "code",
   "execution_count": 55,
   "metadata": {},
   "outputs": [
    {
     "data": {
      "text/plain": [
       "count    103484.000000\n",
       "mean         21.169020\n",
       "std          36.171972\n",
       "min           0.000000\n",
       "25%           2.380000\n",
       "50%           7.750000\n",
       "75%          31.020000\n",
       "max        1693.700000\n",
       "Name: time_diff_minutes, dtype: float64"
      ]
     },
     "execution_count": 55,
     "metadata": {},
     "output_type": "execute_result"
    }
   ],
   "source": [
    "data['time_diff_minutes'].describe(include = 'all')"
   ]
  },
  {
   "attachments": {},
   "cell_type": "markdown",
   "metadata": {},
   "source": [
    "Видим максимальное значение (1693), соответсвующее примерно 28 часам работы внутри документа. Т.к. провести столько времени за непрерывным редактированием не представляется высоковероятным, рассмотрим ближе этот случай, а также этого пользователя:"
   ]
  },
  {
   "cell_type": "code",
   "execution_count": 56,
   "metadata": {},
   "outputs": [
    {
     "data": {
      "text/html": [
       "<div>\n",
       "<style scoped>\n",
       "    .dataframe tbody tr th:only-of-type {\n",
       "        vertical-align: middle;\n",
       "    }\n",
       "\n",
       "    .dataframe tbody tr th {\n",
       "        vertical-align: top;\n",
       "    }\n",
       "\n",
       "    .dataframe thead th {\n",
       "        text-align: right;\n",
       "    }\n",
       "</style>\n",
       "<table border=\"1\" class=\"dataframe\">\n",
       "  <thead>\n",
       "    <tr style=\"text-align: right;\">\n",
       "      <th></th>\n",
       "      <th>server</th>\n",
       "      <th>portal_type</th>\n",
       "      <th>db_name</th>\n",
       "      <th>tariff_id</th>\n",
       "      <th>user</th>\n",
       "      <th>doc_id</th>\n",
       "      <th>start_edit_time</th>\n",
       "      <th>conn_end_time</th>\n",
       "      <th>connections</th>\n",
       "      <th>time_diff_minutes</th>\n",
       "    </tr>\n",
       "  </thead>\n",
       "  <tbody>\n",
       "    <tr>\n",
       "      <th>6077</th>\n",
       "      <td>ms</td>\n",
       "      <td>box</td>\n",
       "      <td>bitrix24.academcity.online</td>\n",
       "      <td>box</td>\n",
       "      <td>2640bitrix24.academcity.online</td>\n",
       "      <td>213865233.0</td>\n",
       "      <td>2022-12-05 08:38:57</td>\n",
       "      <td>2022-12-06 12:52:39</td>\n",
       "      <td>1</td>\n",
       "      <td>1693.7</td>\n",
       "    </tr>\n",
       "  </tbody>\n",
       "</table>\n",
       "</div>"
      ],
      "text/plain": [
       "     server portal_type                     db_name tariff_id  \\\n",
       "6077     ms         box  bitrix24.academcity.online       box   \n",
       "\n",
       "                                user       doc_id     start_edit_time  \\\n",
       "6077  2640bitrix24.academcity.online  213865233.0 2022-12-05 08:38:57   \n",
       "\n",
       "           conn_end_time  connections  time_diff_minutes  \n",
       "6077 2022-12-06 12:52:39            1             1693.7  "
      ]
     },
     "execution_count": 56,
     "metadata": {},
     "output_type": "execute_result"
    }
   ],
   "source": [
    "data.loc[data['time_diff_minutes'] == max(data['time_diff_minutes'])]"
   ]
  },
  {
   "cell_type": "code",
   "execution_count": 57,
   "metadata": {},
   "outputs": [
    {
     "data": {
      "text/html": [
       "<div>\n",
       "<style scoped>\n",
       "    .dataframe tbody tr th:only-of-type {\n",
       "        vertical-align: middle;\n",
       "    }\n",
       "\n",
       "    .dataframe tbody tr th {\n",
       "        vertical-align: top;\n",
       "    }\n",
       "\n",
       "    .dataframe thead th {\n",
       "        text-align: right;\n",
       "    }\n",
       "</style>\n",
       "<table border=\"1\" class=\"dataframe\">\n",
       "  <thead>\n",
       "    <tr style=\"text-align: right;\">\n",
       "      <th></th>\n",
       "      <th>server</th>\n",
       "      <th>portal_type</th>\n",
       "      <th>db_name</th>\n",
       "      <th>tariff_id</th>\n",
       "      <th>user</th>\n",
       "      <th>doc_id</th>\n",
       "      <th>start_edit_time</th>\n",
       "      <th>conn_end_time</th>\n",
       "      <th>connections</th>\n",
       "      <th>time_diff_minutes</th>\n",
       "    </tr>\n",
       "  </thead>\n",
       "  <tbody>\n",
       "    <tr>\n",
       "      <th>2760</th>\n",
       "      <td>ms</td>\n",
       "      <td>box</td>\n",
       "      <td>bitrix24.academcity.online</td>\n",
       "      <td>box</td>\n",
       "      <td>2640bitrix24.academcity.online</td>\n",
       "      <td>8.508831e+08</td>\n",
       "      <td>2022-12-05 07:02:56</td>\n",
       "      <td>2022-12-05 11:45:14</td>\n",
       "      <td>1</td>\n",
       "      <td>282.30</td>\n",
       "    </tr>\n",
       "    <tr>\n",
       "      <th>6077</th>\n",
       "      <td>ms</td>\n",
       "      <td>box</td>\n",
       "      <td>bitrix24.academcity.online</td>\n",
       "      <td>box</td>\n",
       "      <td>2640bitrix24.academcity.online</td>\n",
       "      <td>2.138652e+08</td>\n",
       "      <td>2022-12-05 08:38:57</td>\n",
       "      <td>2022-12-06 12:52:39</td>\n",
       "      <td>1</td>\n",
       "      <td>1693.70</td>\n",
       "    </tr>\n",
       "    <tr>\n",
       "      <th>20983</th>\n",
       "      <td>ms</td>\n",
       "      <td>box</td>\n",
       "      <td>bitrix24.academcity.online</td>\n",
       "      <td>box</td>\n",
       "      <td>2640bitrix24.academcity.online</td>\n",
       "      <td>1.840935e+09</td>\n",
       "      <td>2022-12-05 11:55:12</td>\n",
       "      <td>2022-12-05 11:56:25</td>\n",
       "      <td>1</td>\n",
       "      <td>1.22</td>\n",
       "    </tr>\n",
       "    <tr>\n",
       "      <th>28800</th>\n",
       "      <td>ms</td>\n",
       "      <td>box</td>\n",
       "      <td>bitrix24.academcity.online</td>\n",
       "      <td>box</td>\n",
       "      <td>2640bitrix24.academcity.online</td>\n",
       "      <td>6.375231e+08</td>\n",
       "      <td>2022-12-05 13:40:25</td>\n",
       "      <td>2022-12-05 13:55:05</td>\n",
       "      <td>1</td>\n",
       "      <td>14.67</td>\n",
       "    </tr>\n",
       "    <tr>\n",
       "      <th>40850</th>\n",
       "      <td>ms</td>\n",
       "      <td>box</td>\n",
       "      <td>bitrix24.academcity.online</td>\n",
       "      <td>box</td>\n",
       "      <td>2640bitrix24.academcity.online</td>\n",
       "      <td>1.607628e+09</td>\n",
       "      <td>2022-12-05 16:21:10</td>\n",
       "      <td>2022-12-05 16:22:27</td>\n",
       "      <td>1</td>\n",
       "      <td>1.28</td>\n",
       "    </tr>\n",
       "    <tr>\n",
       "      <th>61280</th>\n",
       "      <td>ms</td>\n",
       "      <td>box</td>\n",
       "      <td>bitrix24.academcity.online</td>\n",
       "      <td>box</td>\n",
       "      <td>2640bitrix24.academcity.online</td>\n",
       "      <td>1.960408e+09</td>\n",
       "      <td>2022-12-06 09:11:33</td>\n",
       "      <td>2022-12-06 09:15:41</td>\n",
       "      <td>1</td>\n",
       "      <td>4.13</td>\n",
       "    </tr>\n",
       "    <tr>\n",
       "      <th>77473</th>\n",
       "      <td>ms</td>\n",
       "      <td>box</td>\n",
       "      <td>bitrix24.academcity.online</td>\n",
       "      <td>box</td>\n",
       "      <td>2640bitrix24.academcity.online</td>\n",
       "      <td>1.425896e+09</td>\n",
       "      <td>2022-12-06 13:00:12</td>\n",
       "      <td>2022-12-06 13:02:10</td>\n",
       "      <td>1</td>\n",
       "      <td>1.97</td>\n",
       "    </tr>\n",
       "    <tr>\n",
       "      <th>86492</th>\n",
       "      <td>ms</td>\n",
       "      <td>box</td>\n",
       "      <td>bitrix24.academcity.online</td>\n",
       "      <td>box</td>\n",
       "      <td>2640bitrix24.academcity.online</td>\n",
       "      <td>3.975508e+09</td>\n",
       "      <td>2022-12-06 15:10:19</td>\n",
       "      <td>2022-12-06 15:12:35</td>\n",
       "      <td>1</td>\n",
       "      <td>2.27</td>\n",
       "    </tr>\n",
       "  </tbody>\n",
       "</table>\n",
       "</div>"
      ],
      "text/plain": [
       "      server portal_type                     db_name tariff_id  \\\n",
       "2760      ms         box  bitrix24.academcity.online       box   \n",
       "6077      ms         box  bitrix24.academcity.online       box   \n",
       "20983     ms         box  bitrix24.academcity.online       box   \n",
       "28800     ms         box  bitrix24.academcity.online       box   \n",
       "40850     ms         box  bitrix24.academcity.online       box   \n",
       "61280     ms         box  bitrix24.academcity.online       box   \n",
       "77473     ms         box  bitrix24.academcity.online       box   \n",
       "86492     ms         box  bitrix24.academcity.online       box   \n",
       "\n",
       "                                 user        doc_id     start_edit_time  \\\n",
       "2760   2640bitrix24.academcity.online  8.508831e+08 2022-12-05 07:02:56   \n",
       "6077   2640bitrix24.academcity.online  2.138652e+08 2022-12-05 08:38:57   \n",
       "20983  2640bitrix24.academcity.online  1.840935e+09 2022-12-05 11:55:12   \n",
       "28800  2640bitrix24.academcity.online  6.375231e+08 2022-12-05 13:40:25   \n",
       "40850  2640bitrix24.academcity.online  1.607628e+09 2022-12-05 16:21:10   \n",
       "61280  2640bitrix24.academcity.online  1.960408e+09 2022-12-06 09:11:33   \n",
       "77473  2640bitrix24.academcity.online  1.425896e+09 2022-12-06 13:00:12   \n",
       "86492  2640bitrix24.academcity.online  3.975508e+09 2022-12-06 15:10:19   \n",
       "\n",
       "            conn_end_time  connections  time_diff_minutes  \n",
       "2760  2022-12-05 11:45:14            1             282.30  \n",
       "6077  2022-12-06 12:52:39            1            1693.70  \n",
       "20983 2022-12-05 11:56:25            1               1.22  \n",
       "28800 2022-12-05 13:55:05            1              14.67  \n",
       "40850 2022-12-05 16:22:27            1               1.28  \n",
       "61280 2022-12-06 09:15:41            1               4.13  \n",
       "77473 2022-12-06 13:02:10            1               1.97  \n",
       "86492 2022-12-06 15:12:35            1               2.27  "
      ]
     },
     "execution_count": 57,
     "metadata": {},
     "output_type": "execute_result"
    }
   ],
   "source": [
    "max_index = data['time_diff_minutes'].idxmax()\n",
    "anomalous_user = data.loc[max_index, 'user']\n",
    "\n",
    "user_rows = data[data['user'] == anomalous_user]\n",
    "user_rows"
   ]
  },
  {
   "attachments": {},
   "cell_type": "markdown",
   "metadata": {},
   "source": [
    "Один из возможных вариантов такого высокого времени - входы и выходы в тот же документ в промежуток времени между стартом и концом редактирования в аномальной строчке. Но такой вариант не подтвердился, значит дело либо в качестве сбора данных, либо в тонкостях, которые нужно уточнять для конкретного источника. Попробуем отыскать список подобных в дальнейших шагах."
   ]
  },
  {
   "attachments": {},
   "cell_type": "markdown",
   "metadata": {},
   "source": [
    "Посмотрим на данные, превышающие 3 квантиль (75%) по количеству уделенного документам времени:"
   ]
  },
  {
   "cell_type": "code",
   "execution_count": 58,
   "metadata": {},
   "outputs": [
    {
     "data": {
      "text/html": [
       "<div>\n",
       "<style scoped>\n",
       "    .dataframe tbody tr th:only-of-type {\n",
       "        vertical-align: middle;\n",
       "    }\n",
       "\n",
       "    .dataframe tbody tr th {\n",
       "        vertical-align: top;\n",
       "    }\n",
       "\n",
       "    .dataframe thead th {\n",
       "        text-align: right;\n",
       "    }\n",
       "</style>\n",
       "<table border=\"1\" class=\"dataframe\">\n",
       "  <thead>\n",
       "    <tr style=\"text-align: right;\">\n",
       "      <th></th>\n",
       "      <th>server</th>\n",
       "      <th>portal_type</th>\n",
       "      <th>db_name</th>\n",
       "      <th>tariff_id</th>\n",
       "      <th>user</th>\n",
       "      <th>doc_id</th>\n",
       "      <th>start_edit_time</th>\n",
       "      <th>conn_end_time</th>\n",
       "      <th>connections</th>\n",
       "      <th>time_diff_minutes</th>\n",
       "    </tr>\n",
       "  </thead>\n",
       "  <tbody>\n",
       "    <tr>\n",
       "      <th>67027</th>\n",
       "      <td>ru</td>\n",
       "      <td>cloud</td>\n",
       "      <td>b19999406</td>\n",
       "      <td>ru_std</td>\n",
       "      <td>1473b19999406</td>\n",
       "      <td>1.754036e+09</td>\n",
       "      <td>2022-12-06 10:32:22</td>\n",
       "      <td>2022-12-06 11:03:24</td>\n",
       "      <td>1</td>\n",
       "      <td>31.03</td>\n",
       "    </tr>\n",
       "    <tr>\n",
       "      <th>43420</th>\n",
       "      <td>ru</td>\n",
       "      <td>cloud</td>\n",
       "      <td>b21037576</td>\n",
       "      <td>ru_std</td>\n",
       "      <td>25b21037576</td>\n",
       "      <td>1.885075e+09</td>\n",
       "      <td>2022-12-05 17:00:56</td>\n",
       "      <td>2022-12-05 17:31:58</td>\n",
       "      <td>1</td>\n",
       "      <td>31.03</td>\n",
       "    </tr>\n",
       "    <tr>\n",
       "      <th>27855</th>\n",
       "      <td>ms</td>\n",
       "      <td>cloud</td>\n",
       "      <td>b5685667</td>\n",
       "      <td>ru_pro</td>\n",
       "      <td>274406b5685667</td>\n",
       "      <td>2.234684e+09</td>\n",
       "      <td>2022-12-05 13:27:35</td>\n",
       "      <td>2022-12-05 13:58:37</td>\n",
       "      <td>1</td>\n",
       "      <td>31.03</td>\n",
       "    </tr>\n",
       "    <tr>\n",
       "      <th>97649</th>\n",
       "      <td>us</td>\n",
       "      <td>cloud</td>\n",
       "      <td>b18231481</td>\n",
       "      <td>br_pro</td>\n",
       "      <td>6779b18231481</td>\n",
       "      <td>2.062911e+09</td>\n",
       "      <td>2022-12-06 18:18:28</td>\n",
       "      <td>2022-12-06 18:49:30</td>\n",
       "      <td>1</td>\n",
       "      <td>31.03</td>\n",
       "    </tr>\n",
       "    <tr>\n",
       "      <th>46423</th>\n",
       "      <td>ru</td>\n",
       "      <td>cloud</td>\n",
       "      <td>b8280485</td>\n",
       "      <td>ru_team_2019</td>\n",
       "      <td>155b8280485</td>\n",
       "      <td>2.446210e+09</td>\n",
       "      <td>2022-12-05 17:54:06</td>\n",
       "      <td>2022-12-05 18:25:08</td>\n",
       "      <td>1</td>\n",
       "      <td>31.03</td>\n",
       "    </tr>\n",
       "    <tr>\n",
       "      <th>...</th>\n",
       "      <td>...</td>\n",
       "      <td>...</td>\n",
       "      <td>...</td>\n",
       "      <td>...</td>\n",
       "      <td>...</td>\n",
       "      <td>...</td>\n",
       "      <td>...</td>\n",
       "      <td>...</td>\n",
       "      <td>...</td>\n",
       "      <td>...</td>\n",
       "    </tr>\n",
       "    <tr>\n",
       "      <th>24091</th>\n",
       "      <td>ms</td>\n",
       "      <td>cloud</td>\n",
       "      <td>b13663838</td>\n",
       "      <td>ru_ent250</td>\n",
       "      <td>1276b13663838</td>\n",
       "      <td>2.876977e+09</td>\n",
       "      <td>2022-12-05 12:36:18</td>\n",
       "      <td>2022-12-06 11:51:35</td>\n",
       "      <td>1</td>\n",
       "      <td>1395.28</td>\n",
       "    </tr>\n",
       "    <tr>\n",
       "      <th>13047</th>\n",
       "      <td>ms</td>\n",
       "      <td>cloud</td>\n",
       "      <td>b23029484</td>\n",
       "      <td>ru_pro100</td>\n",
       "      <td>14b23029484</td>\n",
       "      <td>2.979688e+09</td>\n",
       "      <td>2022-12-05 10:17:36</td>\n",
       "      <td>2022-12-06 11:34:07</td>\n",
       "      <td>1</td>\n",
       "      <td>1516.52</td>\n",
       "    </tr>\n",
       "    <tr>\n",
       "      <th>0</th>\n",
       "      <td>de</td>\n",
       "      <td>box</td>\n",
       "      <td>augcrm.com</td>\n",
       "      <td>box</td>\n",
       "      <td>137augcrm.com</td>\n",
       "      <td>2.152628e+09</td>\n",
       "      <td>2022-12-04 08:07:25</td>\n",
       "      <td>2022-12-05 09:39:44</td>\n",
       "      <td>1</td>\n",
       "      <td>1532.32</td>\n",
       "    </tr>\n",
       "    <tr>\n",
       "      <th>12162</th>\n",
       "      <td>ru</td>\n",
       "      <td>cloud</td>\n",
       "      <td>b10260161</td>\n",
       "      <td>ru_company</td>\n",
       "      <td>18801b10260161</td>\n",
       "      <td>1.299575e+09</td>\n",
       "      <td>2022-12-05 10:05:56</td>\n",
       "      <td>2022-12-06 12:16:00</td>\n",
       "      <td>1</td>\n",
       "      <td>1570.07</td>\n",
       "    </tr>\n",
       "    <tr>\n",
       "      <th>6077</th>\n",
       "      <td>ms</td>\n",
       "      <td>box</td>\n",
       "      <td>bitrix24.academcity.online</td>\n",
       "      <td>box</td>\n",
       "      <td>2640bitrix24.academcity.online</td>\n",
       "      <td>2.138652e+08</td>\n",
       "      <td>2022-12-05 08:38:57</td>\n",
       "      <td>2022-12-06 12:52:39</td>\n",
       "      <td>1</td>\n",
       "      <td>1693.70</td>\n",
       "    </tr>\n",
       "  </tbody>\n",
       "</table>\n",
       "<p>25859 rows × 10 columns</p>\n",
       "</div>"
      ],
      "text/plain": [
       "      server portal_type                     db_name     tariff_id  \\\n",
       "67027     ru       cloud                   b19999406        ru_std   \n",
       "43420     ru       cloud                   b21037576        ru_std   \n",
       "27855     ms       cloud                    b5685667        ru_pro   \n",
       "97649     us       cloud                   b18231481        br_pro   \n",
       "46423     ru       cloud                    b8280485  ru_team_2019   \n",
       "...      ...         ...                         ...           ...   \n",
       "24091     ms       cloud                   b13663838     ru_ent250   \n",
       "13047     ms       cloud                   b23029484     ru_pro100   \n",
       "0         de         box                  augcrm.com           box   \n",
       "12162     ru       cloud                   b10260161    ru_company   \n",
       "6077      ms         box  bitrix24.academcity.online           box   \n",
       "\n",
       "                                 user        doc_id     start_edit_time  \\\n",
       "67027                   1473b19999406  1.754036e+09 2022-12-06 10:32:22   \n",
       "43420                     25b21037576  1.885075e+09 2022-12-05 17:00:56   \n",
       "27855                  274406b5685667  2.234684e+09 2022-12-05 13:27:35   \n",
       "97649                   6779b18231481  2.062911e+09 2022-12-06 18:18:28   \n",
       "46423                     155b8280485  2.446210e+09 2022-12-05 17:54:06   \n",
       "...                               ...           ...                 ...   \n",
       "24091                   1276b13663838  2.876977e+09 2022-12-05 12:36:18   \n",
       "13047                     14b23029484  2.979688e+09 2022-12-05 10:17:36   \n",
       "0                       137augcrm.com  2.152628e+09 2022-12-04 08:07:25   \n",
       "12162                  18801b10260161  1.299575e+09 2022-12-05 10:05:56   \n",
       "6077   2640bitrix24.academcity.online  2.138652e+08 2022-12-05 08:38:57   \n",
       "\n",
       "            conn_end_time  connections  time_diff_minutes  \n",
       "67027 2022-12-06 11:03:24            1              31.03  \n",
       "43420 2022-12-05 17:31:58            1              31.03  \n",
       "27855 2022-12-05 13:58:37            1              31.03  \n",
       "97649 2022-12-06 18:49:30            1              31.03  \n",
       "46423 2022-12-05 18:25:08            1              31.03  \n",
       "...                   ...          ...                ...  \n",
       "24091 2022-12-06 11:51:35            1            1395.28  \n",
       "13047 2022-12-06 11:34:07            1            1516.52  \n",
       "0     2022-12-05 09:39:44            1            1532.32  \n",
       "12162 2022-12-06 12:16:00            1            1570.07  \n",
       "6077  2022-12-06 12:52:39            1            1693.70  \n",
       "\n",
       "[25859 rows x 10 columns]"
      ]
     },
     "execution_count": 58,
     "metadata": {},
     "output_type": "execute_result"
    }
   ],
   "source": [
    "filtered_data = data.loc[data['time_diff_minutes'] > data['time_diff_minutes'].describe(include = 'all')['75%']]\n",
    "sorted_data = filtered_data.sort_values(by='time_diff_minutes')\n",
    "sorted_data"
   ]
  },
  {
   "attachments": {},
   "cell_type": "markdown",
   "metadata": {},
   "source": [
    "Видим аналогичные высокие значения, встречающиеся неоднократно. Построим ящик с усами:"
   ]
  },
  {
   "cell_type": "code",
   "execution_count": 59,
   "metadata": {},
   "outputs": [
    {
     "data": {
      "image/png": "[encoded data removed]",
      "text/plain": [
       "<Figure size 640x480 with 1 Axes>"
      ]
     },
     "metadata": {},
     "output_type": "display_data"
    }
   ],
   "source": [
    "import matplotlib.pyplot as plt\n",
    "\n",
    "plt.boxplot(data['time_diff_minutes'], widths = 3)\n",
    "plt.show()"
   ]
  },
  {
   "attachments": {},
   "cell_type": "markdown",
   "metadata": {},
   "source": [
    "Видим частые выбросы, посмотрим на плотность распределения:"
   ]
  },
  {
   "cell_type": "code",
   "execution_count": 60,
   "metadata": {},
   "outputs": [
    {
     "data": {
      "text/plain": [
       "<AxesSubplot: xlabel='time_diff_minutes', ylabel='Density'>"
      ]
     },
     "execution_count": 60,
     "metadata": {},
     "output_type": "execute_result"
    },
    {
     "data": {
      "image/png": "[encoded data removed]",
      "text/plain": [
       "<Figure size 640x480 with 1 Axes>"
      ]
     },
     "metadata": {},
     "output_type": "display_data"
    }
   ],
   "source": [
    "\n",
    "sns.kdeplot(data['time_diff_minutes'])\n"
   ]
  },
  {
   "attachments": {},
   "cell_type": "markdown",
   "metadata": {},
   "source": [
    "Здесь мы чуть лучше видим в какой момент начинают выбросы, найдем их програмно:"
   ]
  },
  {
   "attachments": {},
   "cell_type": "markdown",
   "metadata": {},
   "source": [
    "Определим, как много даннных с аномально большим временем мы имеем: напишем функцию, помогающую найти выбросы (точка данных является выбросом, если она находится на расстоянии более 1.5xIQR выше третьего квартиля или ниже первого квартиля. Иначе говоря, низкие выбросы находятся ниже Q1 - 1.5xIQR, а высокие выбросы - выше Q3 + 1.5xIQR2)"
   ]
  },
  {
   "cell_type": "code",
   "execution_count": 61,
   "metadata": {},
   "outputs": [],
   "source": [
    "def find_outliers_IQR(data):\n",
    "    Q1 = data.quantile(0.25)\n",
    "    Q3 = data.quantile(0.75)\n",
    "    IQR = Q3 - Q1\n",
    "    lower_bound = Q1 - 1.5 * IQR\n",
    "    upper_bound = Q3 + 1.5 * IQR\n",
    "    outliers = data[(data < lower_bound) | (data > upper_bound)]\n",
    "    return outliers"
   ]
  },
  {
   "cell_type": "code",
   "execution_count": 62,
   "metadata": {},
   "outputs": [
    {
     "data": {
      "text/plain": [
       "28580      74.00\n",
       "45714      74.00\n",
       "20193      74.00\n",
       "30402      74.00\n",
       "21540      74.02\n",
       "          ...   \n",
       "24091    1395.28\n",
       "13047    1516.52\n",
       "0        1532.32\n",
       "12162    1570.07\n",
       "6077     1693.70\n",
       "Name: time_diff_minutes, Length: 5604, dtype: float64"
      ]
     },
     "execution_count": 62,
     "metadata": {},
     "output_type": "execute_result"
    }
   ],
   "source": [
    "\n",
    "sorted_data_time = find_outliers_IQR(data['time_diff_minutes']).sort_values()\n",
    "sorted_data_time"
   ]
  },
  {
   "attachments": {},
   "cell_type": "markdown",
   "metadata": {},
   "source": [
    "Определили, что выбросом начинается считаться время пребывания в документе, соотвествующее 74 минутам. Посмотрим какой процент данных лежит выше этой точки: "
   ]
  },
  {
   "cell_type": "code",
   "execution_count": 63,
   "metadata": {},
   "outputs": [
    {
     "name": "stdout",
     "output_type": "stream",
     "text": [
      "5.41 % аномально большого времени за документом, общее число составило 5600 \n"
     ]
    }
   ],
   "source": [
    "strange_time = float((data['time_diff_minutes'] > 74).sum())\n",
    "all_time = float(data.shape[0])\n",
    "print(round(100*strange_time/all_time , 2), f'% аномально большого времени за документом, общее число составило {int(strange_time)} ')"
   ]
  },
  {
   "attachments": {},
   "cell_type": "markdown",
   "metadata": {},
   "source": [
    "5,41% довольно маленький процент, тут стоило бы уточнить у разработчиков/инженеров по поставке данных о возможных причинах и тогда делать выводы о том, следует ли учитывать полученные числа. Предположим, вариант развития событий, при котором такие данные необходимо оставить и принимать в учет. \n",
    "Тогда нужно найти источники длительного подключения, потому как именно такие увеличивают общее кол-во подключения перманентно: их сложно рассматривать в разрезе времени."
   ]
  },
  {
   "cell_type": "code",
   "execution_count": 64,
   "metadata": {},
   "outputs": [
    {
     "name": "stdout",
     "output_type": "stream",
     "text": [
      "Пользователи с необычно длителными сессиями внутри документа составляют 10.617 % от общего числа уникальных пользователей, их общее количество составило 3679\n"
     ]
    }
   ],
   "source": [
    "higt_time_data = data[data['time_diff_minutes'] > 74]\n",
    "high_time_users = higt_time_data['user'].unique()\n",
    "count_high_time_users = len(high_time_users)\n",
    "count_all_users = len(data['user'].unique())\n",
    "print(f'Пользователи с необычно длителными сессиями внутри документа составляют {round(100*count_high_time_users/count_all_users, 3)} % от общего числа уникальных пользователей, их общее количество составило {count_high_time_users}')"
   ]
  },
  {
   "attachments": {},
   "cell_type": "markdown",
   "metadata": {},
   "source": [
    "Десятая часть пользователей это довольно весомая категория, которую нужно детально рассматривать отдельно. Посмотрим на их tariff_id, т.к. обработать 3,5 тысячи уникальных юзеров довольно проблематично."
   ]
  },
  {
   "cell_type": "code",
   "execution_count": 65,
   "metadata": {},
   "outputs": [
    {
     "name": "stdout",
     "output_type": "stream",
     "text": [
      "Источники захода на документ с анмально большим временем редактирования составляют 62.411 % от общего числа пользователей, их общее количество 88\n"
     ]
    },
    {
     "data": {
      "text/plain": [
       "array(['box', 'ru_pro100', 'la_std', 'ru_company', 'la_pro', 'ru_pro',\n",
       "       'en_company', 'ru_nfr', 'ru_team_2019', 'ru_std', 'ua_pro',\n",
       "       'br_company', 'ua_team_2019', 'ua_std', 'ru_ent250', 'en_pro',\n",
       "       'la_company', 'br_pro', 'en_pro100', 'vn_pro100', 'br_std',\n",
       "       'kz_pro', 'kz_company', 'en_ent250', 'en_team_2019', 'vn_pro',\n",
       "       'by_company', 'kz_ent250', 'ru_ent500', 'in_company', 'in_pro',\n",
       "       'kz_pro100', 'ru_team', 'pl_team_2019', 'kz_nfr', 'kz_std',\n",
       "       'de_pro', 'by_std', 'pl_pro', 'en_std', 'ru_company2', 'de_ent500',\n",
       "       'by_pro', 'by_team_2019', 'by_pro100', 'de_company', 'by_ent500',\n",
       "       'ua_company', 'pl_company', 'eu_pro', 'eu_company', 'fr_pro',\n",
       "       'by_team', 'fr_company', 'eu_ent250', 'fr_pro100', 'pl_std',\n",
       "       'it_pro', 'de_team_2019', 'de_std', 'kz_team_2019', 'fr_std',\n",
       "       'ru_ent1000', 'kz_team', 'ru_demo', 'it_company', 'br_pro100',\n",
       "       'eu_std', 'la_team_2019', 'eu_pro100', 'br_ent1000',\n",
       "       'br_team_2019', 'in_std', 'pl_ent250', 'by_nfr', 'pl_pro100',\n",
       "       'co_std', 'br_ent500', 'la_demo', 'la_pro100', 'br_demo',\n",
       "       'eu_team_2019', 'vn_std', 'id_pro', 'it_std', 'de_pro100',\n",
       "       'en_company3', 'br_ent250'], dtype=object)"
      ]
     },
     "execution_count": 65,
     "metadata": {},
     "output_type": "execute_result"
    }
   ],
   "source": [
    "higt_time_tariff = higt_time_data['tariff_id'].unique()\n",
    "count_higt_time_tariff = len(higt_time_tariff)\n",
    "count_all_tariff = len(data['tariff_id'].unique())\n",
    "print(f'Источники захода на документ с анмально большим временем редактирования составляют {round(100*count_higt_time_tariff/count_all_tariff, 3)} % от общего числа пользователей, их общее количество {count_higt_time_tariff}')\n",
    "higt_time_tariff"
   ]
  },
  {
   "attachments": {},
   "cell_type": "markdown",
   "metadata": {},
   "source": [
    "Именно на обозначенные источники необходимо сделать акцент в выявлении причин, по которым пользователи длительное время не прекращают работу с документом. "
   ]
  },
  {
   "cell_type": "code",
   "execution_count": 66,
   "metadata": {},
   "outputs": [
    {
     "name": "stdout",
     "output_type": "stream",
     "text": [
      "Сервера с анмально большим временем редактирования составляют 100.0 % от общего числа пользователей, их общее количество 4\n"
     ]
    },
    {
     "data": {
      "text/plain": [
       "array(['de', 'ms', 'us', 'ru'], dtype=object)"
      ]
     },
     "execution_count": 66,
     "metadata": {},
     "output_type": "execute_result"
    }
   ],
   "source": [
    "higt_time_server = higt_time_data['server'].unique()\n",
    "count_higt_time_server = len(higt_time_server)\n",
    "count_all_server = len(data['server'].unique())\n",
    "print(f'Сервера с анмально большим временем редактирования составляют {round(100*count_higt_time_server/count_all_server, 3)} % от общего числа пользователей, их общее количество {count_higt_time_server}')\n",
    "higt_time_server"
   ]
  },
  {
   "attachments": {},
   "cell_type": "markdown",
   "metadata": {},
   "source": [
    "Видим, что  сервера прямо не влияют на количетсво подключений и время пребывания в документе."
   ]
  },
  {
   "attachments": {},
   "cell_type": "markdown",
   "metadata": {},
   "source": [
    "Теперь можем перейти к выявлению количества одновременных подключений в документы."
   ]
  },
  {
   "attachments": {},
   "cell_type": "markdown",
   "metadata": {},
   "source": [
    "Для это создадим временные интервалы в 30 минут и посмотрим на количество одновременных подключений по времени:"
   ]
  },
  {
   "cell_type": "code",
   "execution_count": 67,
   "metadata": {},
   "outputs": [
    {
     "data": {
      "text/html": [
       "<div>\n",
       "<style scoped>\n",
       "    .dataframe tbody tr th:only-of-type {\n",
       "        vertical-align: middle;\n",
       "    }\n",
       "\n",
       "    .dataframe tbody tr th {\n",
       "        vertical-align: top;\n",
       "    }\n",
       "\n",
       "    .dataframe thead th {\n",
       "        text-align: right;\n",
       "    }\n",
       "</style>\n",
       "<table border=\"1\" class=\"dataframe\">\n",
       "  <thead>\n",
       "    <tr style=\"text-align: right;\">\n",
       "      <th></th>\n",
       "      <th>start_edit_time</th>\n",
       "      <th>connections</th>\n",
       "    </tr>\n",
       "  </thead>\n",
       "  <tbody>\n",
       "    <tr>\n",
       "      <th>32</th>\n",
       "      <td>2022-12-05 11:30:00</td>\n",
       "      <td>2448</td>\n",
       "    </tr>\n",
       "    <tr>\n",
       "      <th>31</th>\n",
       "      <td>2022-12-05 11:00:00</td>\n",
       "      <td>2420</td>\n",
       "    </tr>\n",
       "    <tr>\n",
       "      <th>33</th>\n",
       "      <td>2022-12-05 12:00:00</td>\n",
       "      <td>2403</td>\n",
       "    </tr>\n",
       "    <tr>\n",
       "      <th>30</th>\n",
       "      <td>2022-12-05 10:30:00</td>\n",
       "      <td>2372</td>\n",
       "    </tr>\n",
       "    <tr>\n",
       "      <th>29</th>\n",
       "      <td>2022-12-05 10:00:00</td>\n",
       "      <td>2368</td>\n",
       "    </tr>\n",
       "  </tbody>\n",
       "</table>\n",
       "</div>"
      ],
      "text/plain": [
       "       start_edit_time  connections\n",
       "32 2022-12-05 11:30:00         2448\n",
       "31 2022-12-05 11:00:00         2420\n",
       "33 2022-12-05 12:00:00         2403\n",
       "30 2022-12-05 10:30:00         2372\n",
       "29 2022-12-05 10:00:00         2368"
      ]
     },
     "execution_count": 67,
     "metadata": {},
     "output_type": "execute_result"
    }
   ],
   "source": [
    "# создание нового столбца с округленным временем\n",
    "data['start_edit_time'] = data['start_edit_time'].dt.round('30T')\n",
    "\n",
    "# группировка данных по округленному времени\n",
    "grouped_start_time = data.groupby('start_edit_time')\n",
    "\n",
    "# подсчет общего количества подключений для каждого временного интервала\n",
    "connections = grouped_start_time['connections'].agg('sum')\n",
    "\n",
    "# сохранение результатов в новый DataFrame\n",
    "\n",
    "connections_df = connections.reset_index()\n",
    "connections_df.sort_values(ascending=False, by = 'connections').head() \n"
   ]
  },
  {
   "cell_type": "code",
   "execution_count": 68,
   "metadata": {},
   "outputs": [
    {
     "data": {
      "text/html": [
       "<div>\n",
       "<style scoped>\n",
       "    .dataframe tbody tr th:only-of-type {\n",
       "        vertical-align: middle;\n",
       "    }\n",
       "\n",
       "    .dataframe tbody tr th {\n",
       "        vertical-align: top;\n",
       "    }\n",
       "\n",
       "    .dataframe thead th {\n",
       "        text-align: right;\n",
       "    }\n",
       "</style>\n",
       "<table border=\"1\" class=\"dataframe\">\n",
       "  <thead>\n",
       "    <tr style=\"text-align: right;\">\n",
       "      <th></th>\n",
       "      <th>start_edit_time</th>\n",
       "      <th>connections</th>\n",
       "      <th>tariff_id</th>\n",
       "      <th>doc_id</th>\n",
       "      <th>portal_type</th>\n",
       "      <th>db_name</th>\n",
       "      <th>server</th>\n",
       "    </tr>\n",
       "  </thead>\n",
       "  <tbody>\n",
       "    <tr>\n",
       "      <th>32</th>\n",
       "      <td>2022-12-05 11:30:00</td>\n",
       "      <td>2448</td>\n",
       "      <td>[ru_pro, ru_team_2019, ru_pro100, box, ru_std,...</td>\n",
       "      <td>[2761575866.0, 1015119789.0, 2125628358.0, 101...</td>\n",
       "      <td>[cloud, box]</td>\n",
       "      <td>[b22098008, b18576430, b16130674, b20768210, b...</td>\n",
       "      <td>[ms, ru, de, us]</td>\n",
       "    </tr>\n",
       "    <tr>\n",
       "      <th>31</th>\n",
       "      <td>2022-12-05 11:00:00</td>\n",
       "      <td>2420</td>\n",
       "      <td>[ru_pro, ru_team_2019, box, by_pro, ru_team, r...</td>\n",
       "      <td>[2506519679.0, 3099009545.0, 3150537226.0, 207...</td>\n",
       "      <td>[cloud, box]</td>\n",
       "      <td>[b2751613, b6531417, rimgroup24.ru, b21176728,...</td>\n",
       "      <td>[ms, ru, de, us]</td>\n",
       "    </tr>\n",
       "    <tr>\n",
       "      <th>33</th>\n",
       "      <td>2022-12-05 12:00:00</td>\n",
       "      <td>2403</td>\n",
       "      <td>[ru_company, kz_pro100, ru_std, en_pro, box, r...</td>\n",
       "      <td>[2076029986.0, 286956681.0, 1143265116.0, 1735...</td>\n",
       "      <td>[cloud, box]</td>\n",
       "      <td>[b1621421, b20617868, b21915266, b20830995, bi...</td>\n",
       "      <td>[ru, de, ms, us]</td>\n",
       "    </tr>\n",
       "    <tr>\n",
       "      <th>30</th>\n",
       "      <td>2022-12-05 10:30:00</td>\n",
       "      <td>2372</td>\n",
       "      <td>[ru_nfr, ru_pro100, ru_team_2019, ru_company, ...</td>\n",
       "      <td>[1583791929.0, 1857497282.0, 230433439.0, 2252...</td>\n",
       "      <td>[cloud, box]</td>\n",
       "      <td>[b3808793, b21629026, b9199145, b1335383, b190...</td>\n",
       "      <td>[ru, ms, de, us]</td>\n",
       "    </tr>\n",
       "    <tr>\n",
       "      <th>29</th>\n",
       "      <td>2022-12-05 10:00:00</td>\n",
       "      <td>2368</td>\n",
       "      <td>[ru_company, in_pro, box, ru_pro, ru_team_2019...</td>\n",
       "      <td>[1447678939.0, 3093109634.0, 3675466533.0, 132...</td>\n",
       "      <td>[cloud, box]</td>\n",
       "      <td>[b11780146, b18297514, b20199223, bitrix.tdgt....</td>\n",
       "      <td>[ms, ru, us, de]</td>\n",
       "    </tr>\n",
       "  </tbody>\n",
       "</table>\n",
       "</div>"
      ],
      "text/plain": [
       "       start_edit_time  connections  \\\n",
       "32 2022-12-05 11:30:00         2448   \n",
       "31 2022-12-05 11:00:00         2420   \n",
       "33 2022-12-05 12:00:00         2403   \n",
       "30 2022-12-05 10:30:00         2372   \n",
       "29 2022-12-05 10:00:00         2368   \n",
       "\n",
       "                                            tariff_id  \\\n",
       "32  [ru_pro, ru_team_2019, ru_pro100, box, ru_std,...   \n",
       "31  [ru_pro, ru_team_2019, box, by_pro, ru_team, r...   \n",
       "33  [ru_company, kz_pro100, ru_std, en_pro, box, r...   \n",
       "30  [ru_nfr, ru_pro100, ru_team_2019, ru_company, ...   \n",
       "29  [ru_company, in_pro, box, ru_pro, ru_team_2019...   \n",
       "\n",
       "                                               doc_id   portal_type  \\\n",
       "32  [2761575866.0, 1015119789.0, 2125628358.0, 101...  [cloud, box]   \n",
       "31  [2506519679.0, 3099009545.0, 3150537226.0, 207...  [cloud, box]   \n",
       "33  [2076029986.0, 286956681.0, 1143265116.0, 1735...  [cloud, box]   \n",
       "30  [1583791929.0, 1857497282.0, 230433439.0, 2252...  [cloud, box]   \n",
       "29  [1447678939.0, 3093109634.0, 3675466533.0, 132...  [cloud, box]   \n",
       "\n",
       "                                              db_name            server  \n",
       "32  [b22098008, b18576430, b16130674, b20768210, b...  [ms, ru, de, us]  \n",
       "31  [b2751613, b6531417, rimgroup24.ru, b21176728,...  [ms, ru, de, us]  \n",
       "33  [b1621421, b20617868, b21915266, b20830995, bi...  [ru, de, ms, us]  \n",
       "30  [b3808793, b21629026, b9199145, b1335383, b190...  [ru, ms, de, us]  \n",
       "29  [b11780146, b18297514, b20199223, bitrix.tdgt....  [ms, ru, us, de]  "
      ]
     },
     "execution_count": 68,
     "metadata": {},
     "output_type": "execute_result"
    }
   ],
   "source": [
    "def get_tariff(group):\n",
    "    return list(group['tariff_id'].unique())\n",
    "\n",
    "def get_open_docs(group):\n",
    "    return list(group['doc_id'].unique())\n",
    "\n",
    "def get_portal_type(group):\n",
    "    return list(group['portal_type'].unique())\n",
    "\n",
    "def get_db_name(group):\n",
    "    return list(group['db_name'].unique())\n",
    "\n",
    "def get_server(group):\n",
    "    return list(group['server'].unique())\n",
    "\n",
    "grouped_start_time = data.groupby('start_edit_time')\n",
    "connections = grouped_start_time['connections'].agg('sum')\n",
    "tariff_id = grouped_start_time.apply(get_tariff)\n",
    "server = grouped_start_time.apply(get_server)\n",
    "doc_id = grouped_start_time.apply(get_open_docs)\n",
    "portal_type = grouped_start_time.apply(get_portal_type)\n",
    "db_name = grouped_start_time.apply(get_db_name)\n",
    "connections_df = pd.DataFrame({'start_edit_time': connections.index, 'connections': connections.values,  'tariff_id': tariff_id.values,  'doc_id': doc_id.values, 'portal_type': portal_type.values, 'db_name': db_name.values, 'server':server.values})\n",
    "connections_df.sort_values(ascending=False, by = 'connections').head() "
   ]
  },
  {
   "attachments": {},
   "cell_type": "markdown",
   "metadata": {},
   "source": [
    "Такую таблицу удобно использовать для ручного анализа, однако для построения визуализации нужно будет вновь вернуть исходных формат, не содержащий списков внутри колонок."
   ]
  },
  {
   "cell_type": "code",
   "execution_count": 69,
   "metadata": {},
   "outputs": [
    {
     "data": {
      "image/png": "[encoded data removed]",
      "text/plain": [
       "<Figure size 3000x700 with 1 Axes>"
      ]
     },
     "metadata": {},
     "output_type": "display_data"
    }
   ],
   "source": [
    "import matplotlib.pyplot as plt\n",
    "import matplotlib.dates as mdates\n",
    "# столбчатый график количества подключений по времени\n",
    "ax =  connections_df.plot(x='start_edit_time', y='connections', kind = 'bar' , figsize=(30,7))\n",
    "\n",
    "plt.grid(True, linestyle = '--', linewidth = 0.5)\n",
    "plt.xlabel(\"Время начала редактирования документа с интервалом 74 минуты\")\n",
    "plt.ylabel(\"Количество одновременных подключений к документам\")\n",
    "plt.show()\n"
   ]
  },
  {
   "attachments": {},
   "cell_type": "markdown",
   "metadata": {},
   "source": [
    "Наблюдаемые пиковые моменты приходятся на промежуток времени с 7 утра до 18 вечера, что указывает на подключения к документам в рабочее время."
   ]
  },
  {
   "cell_type": "code",
   "execution_count": 70,
   "metadata": {},
   "outputs": [
    {
     "data": {
      "text/html": [
       "<div>\n",
       "<style scoped>\n",
       "    .dataframe tbody tr th:only-of-type {\n",
       "        vertical-align: middle;\n",
       "    }\n",
       "\n",
       "    .dataframe tbody tr th {\n",
       "        vertical-align: top;\n",
       "    }\n",
       "\n",
       "    .dataframe thead th {\n",
       "        text-align: right;\n",
       "    }\n",
       "</style>\n",
       "<table border=\"1\" class=\"dataframe\">\n",
       "  <thead>\n",
       "    <tr style=\"text-align: right;\">\n",
       "      <th></th>\n",
       "      <th>start_edit_time</th>\n",
       "      <th>connections</th>\n",
       "      <th>tariff_id</th>\n",
       "      <th>doc_id</th>\n",
       "      <th>portal_type</th>\n",
       "      <th>db_name</th>\n",
       "      <th>server</th>\n",
       "    </tr>\n",
       "  </thead>\n",
       "  <tbody>\n",
       "    <tr>\n",
       "      <th>32</th>\n",
       "      <td>2022-12-05 11:30:00</td>\n",
       "      <td>2448</td>\n",
       "      <td>[ru_pro, ru_team_2019, ru_pro100, box, ru_std,...</td>\n",
       "      <td>[2761575866.0, 1015119789.0, 2125628358.0, 101...</td>\n",
       "      <td>[cloud, box]</td>\n",
       "      <td>[b22098008, b18576430, b16130674, b20768210, b...</td>\n",
       "      <td>[ms, ru, de, us]</td>\n",
       "    </tr>\n",
       "    <tr>\n",
       "      <th>31</th>\n",
       "      <td>2022-12-05 11:00:00</td>\n",
       "      <td>2420</td>\n",
       "      <td>[ru_pro, ru_team_2019, box, by_pro, ru_team, r...</td>\n",
       "      <td>[2506519679.0, 3099009545.0, 3150537226.0, 207...</td>\n",
       "      <td>[cloud, box]</td>\n",
       "      <td>[b2751613, b6531417, rimgroup24.ru, b21176728,...</td>\n",
       "      <td>[ms, ru, de, us]</td>\n",
       "    </tr>\n",
       "    <tr>\n",
       "      <th>33</th>\n",
       "      <td>2022-12-05 12:00:00</td>\n",
       "      <td>2403</td>\n",
       "      <td>[ru_company, kz_pro100, ru_std, en_pro, box, r...</td>\n",
       "      <td>[2076029986.0, 286956681.0, 1143265116.0, 1735...</td>\n",
       "      <td>[cloud, box]</td>\n",
       "      <td>[b1621421, b20617868, b21915266, b20830995, bi...</td>\n",
       "      <td>[ru, de, ms, us]</td>\n",
       "    </tr>\n",
       "    <tr>\n",
       "      <th>30</th>\n",
       "      <td>2022-12-05 10:30:00</td>\n",
       "      <td>2372</td>\n",
       "      <td>[ru_nfr, ru_pro100, ru_team_2019, ru_company, ...</td>\n",
       "      <td>[1583791929.0, 1857497282.0, 230433439.0, 2252...</td>\n",
       "      <td>[cloud, box]</td>\n",
       "      <td>[b3808793, b21629026, b9199145, b1335383, b190...</td>\n",
       "      <td>[ru, ms, de, us]</td>\n",
       "    </tr>\n",
       "    <tr>\n",
       "      <th>29</th>\n",
       "      <td>2022-12-05 10:00:00</td>\n",
       "      <td>2368</td>\n",
       "      <td>[ru_company, in_pro, box, ru_pro, ru_team_2019...</td>\n",
       "      <td>[1447678939.0, 3093109634.0, 3675466533.0, 132...</td>\n",
       "      <td>[cloud, box]</td>\n",
       "      <td>[b11780146, b18297514, b20199223, bitrix.tdgt....</td>\n",
       "      <td>[ms, ru, us, de]</td>\n",
       "    </tr>\n",
       "  </tbody>\n",
       "</table>\n",
       "</div>"
      ],
      "text/plain": [
       "       start_edit_time  connections  \\\n",
       "32 2022-12-05 11:30:00         2448   \n",
       "31 2022-12-05 11:00:00         2420   \n",
       "33 2022-12-05 12:00:00         2403   \n",
       "30 2022-12-05 10:30:00         2372   \n",
       "29 2022-12-05 10:00:00         2368   \n",
       "\n",
       "                                            tariff_id  \\\n",
       "32  [ru_pro, ru_team_2019, ru_pro100, box, ru_std,...   \n",
       "31  [ru_pro, ru_team_2019, box, by_pro, ru_team, r...   \n",
       "33  [ru_company, kz_pro100, ru_std, en_pro, box, r...   \n",
       "30  [ru_nfr, ru_pro100, ru_team_2019, ru_company, ...   \n",
       "29  [ru_company, in_pro, box, ru_pro, ru_team_2019...   \n",
       "\n",
       "                                               doc_id   portal_type  \\\n",
       "32  [2761575866.0, 1015119789.0, 2125628358.0, 101...  [cloud, box]   \n",
       "31  [2506519679.0, 3099009545.0, 3150537226.0, 207...  [cloud, box]   \n",
       "33  [2076029986.0, 286956681.0, 1143265116.0, 1735...  [cloud, box]   \n",
       "30  [1583791929.0, 1857497282.0, 230433439.0, 2252...  [cloud, box]   \n",
       "29  [1447678939.0, 3093109634.0, 3675466533.0, 132...  [cloud, box]   \n",
       "\n",
       "                                              db_name            server  \n",
       "32  [b22098008, b18576430, b16130674, b20768210, b...  [ms, ru, de, us]  \n",
       "31  [b2751613, b6531417, rimgroup24.ru, b21176728,...  [ms, ru, de, us]  \n",
       "33  [b1621421, b20617868, b21915266, b20830995, bi...  [ru, de, ms, us]  \n",
       "30  [b3808793, b21629026, b9199145, b1335383, b190...  [ru, ms, de, us]  \n",
       "29  [b11780146, b18297514, b20199223, bitrix.tdgt....  [ms, ru, us, de]  "
      ]
     },
     "execution_count": 70,
     "metadata": {},
     "output_type": "execute_result"
    }
   ],
   "source": [
    "top_intervals = connections_df.sort_values(by='connections', ascending=False).head()\n",
    "top_intervals"
   ]
  },
  {
   "attachments": {},
   "cell_type": "markdown",
   "metadata": {},
   "source": [
    "В таблице выше обнаружены интервалы с максимальным количеством подключений - первая половина дня и околообеденное время. "
   ]
  },
  {
   "cell_type": "code",
   "execution_count": 71,
   "metadata": {},
   "outputs": [
    {
     "data": {
      "text/html": [
       "<div>\n",
       "<style scoped>\n",
       "    .dataframe tbody tr th:only-of-type {\n",
       "        vertical-align: middle;\n",
       "    }\n",
       "\n",
       "    .dataframe tbody tr th {\n",
       "        vertical-align: top;\n",
       "    }\n",
       "\n",
       "    .dataframe thead th {\n",
       "        text-align: right;\n",
       "    }\n",
       "</style>\n",
       "<table border=\"1\" class=\"dataframe\">\n",
       "  <thead>\n",
       "    <tr style=\"text-align: right;\">\n",
       "      <th></th>\n",
       "      <th>start_edit_time</th>\n",
       "      <th>db_name</th>\n",
       "      <th>connections</th>\n",
       "    </tr>\n",
       "  </thead>\n",
       "  <tbody>\n",
       "    <tr>\n",
       "      <th>33576</th>\n",
       "      <td>2022-12-06 05:30:00</td>\n",
       "      <td>b23771533</td>\n",
       "      <td>25</td>\n",
       "    </tr>\n",
       "    <tr>\n",
       "      <th>38274</th>\n",
       "      <td>2022-12-06 09:30:00</td>\n",
       "      <td>b4245111</td>\n",
       "      <td>25</td>\n",
       "    </tr>\n",
       "    <tr>\n",
       "      <th>39582</th>\n",
       "      <td>2022-12-06 10:00:00</td>\n",
       "      <td>b5745095</td>\n",
       "      <td>22</td>\n",
       "    </tr>\n",
       "    <tr>\n",
       "      <th>39526</th>\n",
       "      <td>2022-12-06 10:00:00</td>\n",
       "      <td>b4245111</td>\n",
       "      <td>21</td>\n",
       "    </tr>\n",
       "    <tr>\n",
       "      <th>62122</th>\n",
       "      <td>2022-12-06 21:00:00</td>\n",
       "      <td>vandal.team</td>\n",
       "      <td>20</td>\n",
       "    </tr>\n",
       "  </tbody>\n",
       "</table>\n",
       "</div>"
      ],
      "text/plain": [
       "          start_edit_time      db_name  connections\n",
       "33576 2022-12-06 05:30:00    b23771533           25\n",
       "38274 2022-12-06 09:30:00     b4245111           25\n",
       "39582 2022-12-06 10:00:00     b5745095           22\n",
       "39526 2022-12-06 10:00:00     b4245111           21\n",
       "62122 2022-12-06 21:00:00  vandal.team           20"
      ]
     },
     "execution_count": 71,
     "metadata": {},
     "output_type": "execute_result"
    }
   ],
   "source": [
    "grouped_data = data.groupby(['start_edit_time', 'db_name'])\n",
    "max_connections = grouped_data['connections'].agg('sum')\n",
    "max_db_name = max_connections.reset_index()\n",
    "max_db_name.sort_values(by='connections', ascending=False).head()"
   ]
  },
  {
   "cell_type": "code",
   "execution_count": 72,
   "metadata": {},
   "outputs": [
    {
     "data": {
      "image/png": "[encoded data removed]",
      "text/plain": [
       "<Figure size 1000x900 with 1 Axes>"
      ]
     },
     "metadata": {},
     "output_type": "display_data"
    }
   ],
   "source": [
    "\n",
    "# Сруппировать данные по 'db_name' и вычислить сумму 'connections' для каждой группы\n",
    "grouped_df = max_db_name.groupby('db_name').agg({'connections': 'sum'}).reset_index()\n",
    "\n",
    "# Отсортировать результаты по убыванию значения 'connections'\n",
    "sorted_df = grouped_df.sort_values(by='connections', ascending=False)\n",
    "\n",
    "# Выбрать первые 10  строк\n",
    "top_df = sorted_df.iloc[:10]\n",
    "\n",
    "# Построить столбчатую диаграмму\n",
    "top_df.plot.barh(x='db_name', y='connections', figsize = (10,9))\n",
    "plt.grid(True, axis = 'x', linestyle = '--', linewidth = 0.5)\n",
    "plt.xlabel(\"Имя базы данных (db_name)\")\n",
    "plt.ylabel(\"Одновременных подключений к документам из указанных баз данных\")\n",
    "plt.show()\n"
   ]
  },
  {
   "cell_type": "code",
   "execution_count": 73,
   "metadata": {},
   "outputs": [
    {
     "data": {
      "text/html": [
       "<div>\n",
       "<style scoped>\n",
       "    .dataframe tbody tr th:only-of-type {\n",
       "        vertical-align: middle;\n",
       "    }\n",
       "\n",
       "    .dataframe tbody tr th {\n",
       "        vertical-align: top;\n",
       "    }\n",
       "\n",
       "    .dataframe thead th {\n",
       "        text-align: right;\n",
       "    }\n",
       "</style>\n",
       "<table border=\"1\" class=\"dataframe\">\n",
       "  <thead>\n",
       "    <tr style=\"text-align: right;\">\n",
       "      <th></th>\n",
       "      <th>start_edit_time</th>\n",
       "      <th>tariff_id</th>\n",
       "      <th>connections</th>\n",
       "    </tr>\n",
       "  </thead>\n",
       "  <tbody>\n",
       "    <tr>\n",
       "      <th>681</th>\n",
       "      <td>2022-12-05 10:00:00</td>\n",
       "      <td>ru_pro</td>\n",
       "      <td>788</td>\n",
       "    </tr>\n",
       "    <tr>\n",
       "      <th>628</th>\n",
       "      <td>2022-12-05 09:30:00</td>\n",
       "      <td>ru_pro</td>\n",
       "      <td>755</td>\n",
       "    </tr>\n",
       "    <tr>\n",
       "      <th>746</th>\n",
       "      <td>2022-12-05 10:30:00</td>\n",
       "      <td>ru_pro</td>\n",
       "      <td>736</td>\n",
       "    </tr>\n",
       "    <tr>\n",
       "      <th>897</th>\n",
       "      <td>2022-12-05 11:30:00</td>\n",
       "      <td>ru_pro</td>\n",
       "      <td>721</td>\n",
       "    </tr>\n",
       "    <tr>\n",
       "      <th>820</th>\n",
       "      <td>2022-12-05 11:00:00</td>\n",
       "      <td>ru_pro</td>\n",
       "      <td>720</td>\n",
       "    </tr>\n",
       "  </tbody>\n",
       "</table>\n",
       "</div>"
      ],
      "text/plain": [
       "        start_edit_time tariff_id  connections\n",
       "681 2022-12-05 10:00:00    ru_pro          788\n",
       "628 2022-12-05 09:30:00    ru_pro          755\n",
       "746 2022-12-05 10:30:00    ru_pro          736\n",
       "897 2022-12-05 11:30:00    ru_pro          721\n",
       "820 2022-12-05 11:00:00    ru_pro          720"
      ]
     },
     "execution_count": 73,
     "metadata": {},
     "output_type": "execute_result"
    }
   ],
   "source": [
    "grouped_data = data.groupby(['start_edit_time', 'tariff_id'])\n",
    "max_connections = grouped_data['connections'].agg('sum')\n",
    "max_tariff = max_connections.reset_index()\n",
    "max_tariff.sort_values(by='connections', ascending=False).head()"
   ]
  },
  {
   "attachments": {},
   "cell_type": "markdown",
   "metadata": {},
   "source": [
    "Обнаруживаем, наиболее популярный tafiff_id с одновременными редактированиями. "
   ]
  },
  {
   "cell_type": "code",
   "execution_count": 74,
   "metadata": {},
   "outputs": [
    {
     "data": {
      "image/png": "[encoded data removed]",
      "text/plain": [
       "<Figure size 1000x800 with 1 Axes>"
      ]
     },
     "metadata": {},
     "output_type": "display_data"
    }
   ],
   "source": [
    "\n",
    "grouped_df = max_tariff.groupby('tariff_id').agg({'connections': 'sum'}).reset_index()\n",
    "# Отсортировать результаты по убыванию значения 'connections'\n",
    "sorted_df = grouped_df.sort_values(by='connections', ascending=False)\n",
    "\n",
    "# Выбрать первые 10 строк\n",
    "top_df = sorted_df.iloc[:10]\n",
    "\n",
    "# Построить столбчатую диаграмму\n",
    "top_df.plot.barh(x='tariff_id', y='connections', figsize = (10, 8))\n",
    "plt.grid(True, axis = 'y', linestyle = '--', linewidth = 0.5)\n",
    "plt.xlabel(\"Источник подключения к документам (tariff_id) (сгруппированы по уникальным значениям)\")\n",
    "plt.ylabel(\"Количество одновременных подключений к документам из указанных tariff_id\")\n",
    "\n",
    "plt.show()"
   ]
  },
  {
   "cell_type": "code",
   "execution_count": 75,
   "metadata": {},
   "outputs": [
    {
     "data": {
      "text/html": [
       "<div>\n",
       "<style scoped>\n",
       "    .dataframe tbody tr th:only-of-type {\n",
       "        vertical-align: middle;\n",
       "    }\n",
       "\n",
       "    .dataframe tbody tr th {\n",
       "        vertical-align: top;\n",
       "    }\n",
       "\n",
       "    .dataframe thead th {\n",
       "        text-align: right;\n",
       "    }\n",
       "</style>\n",
       "<table border=\"1\" class=\"dataframe\">\n",
       "  <thead>\n",
       "    <tr style=\"text-align: right;\">\n",
       "      <th></th>\n",
       "      <th>start_edit_time</th>\n",
       "      <th>server</th>\n",
       "      <th>connections</th>\n",
       "    </tr>\n",
       "  </thead>\n",
       "  <tbody>\n",
       "    <tr>\n",
       "      <th>111</th>\n",
       "      <td>2022-12-05 11:30:00</td>\n",
       "      <td>ms</td>\n",
       "      <td>1236</td>\n",
       "    </tr>\n",
       "    <tr>\n",
       "      <th>103</th>\n",
       "      <td>2022-12-05 10:30:00</td>\n",
       "      <td>ms</td>\n",
       "      <td>1204</td>\n",
       "    </tr>\n",
       "    <tr>\n",
       "      <th>95</th>\n",
       "      <td>2022-12-05 09:30:00</td>\n",
       "      <td>ms</td>\n",
       "      <td>1178</td>\n",
       "    </tr>\n",
       "    <tr>\n",
       "      <th>107</th>\n",
       "      <td>2022-12-05 11:00:00</td>\n",
       "      <td>ms</td>\n",
       "      <td>1160</td>\n",
       "    </tr>\n",
       "    <tr>\n",
       "      <th>115</th>\n",
       "      <td>2022-12-05 12:00:00</td>\n",
       "      <td>ms</td>\n",
       "      <td>1154</td>\n",
       "    </tr>\n",
       "  </tbody>\n",
       "</table>\n",
       "</div>"
      ],
      "text/plain": [
       "        start_edit_time server  connections\n",
       "111 2022-12-05 11:30:00     ms         1236\n",
       "103 2022-12-05 10:30:00     ms         1204\n",
       "95  2022-12-05 09:30:00     ms         1178\n",
       "107 2022-12-05 11:00:00     ms         1160\n",
       "115 2022-12-05 12:00:00     ms         1154"
      ]
     },
     "execution_count": 75,
     "metadata": {},
     "output_type": "execute_result"
    }
   ],
   "source": [
    "grouped_data = data.groupby(['start_edit_time', 'server'])\n",
    "max_connections = grouped_data['connections'].agg('sum')\n",
    "max_server = max_connections.reset_index()\n",
    "\n",
    "max_server.sort_values(by='connections', ascending=False).head()"
   ]
  },
  {
   "cell_type": "code",
   "execution_count": 76,
   "metadata": {},
   "outputs": [
    {
     "data": {
      "image/png": "[encoded data removed]",
      "text/plain": [
       "<Figure size 1000x800 with 1 Axes>"
      ]
     },
     "metadata": {},
     "output_type": "display_data"
    }
   ],
   "source": [
    "\n",
    "grouped_df = max_server.groupby('server').agg({'connections': 'sum'}).reset_index()\n",
    "# Отсортировать результаты по убыванию значения 'connections'\n",
    "sorted_df = grouped_df.sort_values(by='connections', ascending=False)\n",
    "\n",
    "# Построить столбчатую диаграмму\n",
    "sorted_df.plot.barh(x='server', y='connections', figsize = (10, 8))\n",
    "plt.grid(True, axis = 'y', linestyle = '--', linewidth = 0.5)\n",
    "\n",
    "plt.xlabel(\"Сервер\")\n",
    "plt.ylabel(\"Суммарные одновременные подключения к документам из указанных серверов\")\n",
    "\n",
    "plt.show()\n",
    "\n"
   ]
  },
  {
   "cell_type": "code",
   "execution_count": 77,
   "metadata": {},
   "outputs": [
    {
     "data": {
      "text/html": [
       "<div>\n",
       "<style scoped>\n",
       "    .dataframe tbody tr th:only-of-type {\n",
       "        vertical-align: middle;\n",
       "    }\n",
       "\n",
       "    .dataframe tbody tr th {\n",
       "        vertical-align: top;\n",
       "    }\n",
       "\n",
       "    .dataframe thead th {\n",
       "        text-align: right;\n",
       "    }\n",
       "</style>\n",
       "<table border=\"1\" class=\"dataframe\">\n",
       "  <thead>\n",
       "    <tr style=\"text-align: right;\">\n",
       "      <th></th>\n",
       "      <th>start_edit_time</th>\n",
       "      <th>portal_type</th>\n",
       "      <th>connections</th>\n",
       "    </tr>\n",
       "  </thead>\n",
       "  <tbody>\n",
       "    <tr>\n",
       "      <th>32</th>\n",
       "      <td>2022-12-05 11:30:00</td>\n",
       "      <td>cloud</td>\n",
       "      <td>2076</td>\n",
       "    </tr>\n",
       "    <tr>\n",
       "      <th>31</th>\n",
       "      <td>2022-12-05 11:00:00</td>\n",
       "      <td>cloud</td>\n",
       "      <td>2068</td>\n",
       "    </tr>\n",
       "    <tr>\n",
       "      <th>33</th>\n",
       "      <td>2022-12-05 12:00:00</td>\n",
       "      <td>cloud</td>\n",
       "      <td>2061</td>\n",
       "    </tr>\n",
       "    <tr>\n",
       "      <th>30</th>\n",
       "      <td>2022-12-05 10:30:00</td>\n",
       "      <td>cloud</td>\n",
       "      <td>2031</td>\n",
       "    </tr>\n",
       "    <tr>\n",
       "      <th>29</th>\n",
       "      <td>2022-12-05 10:00:00</td>\n",
       "      <td>cloud</td>\n",
       "      <td>2020</td>\n",
       "    </tr>\n",
       "  </tbody>\n",
       "</table>\n",
       "</div>"
      ],
      "text/plain": [
       "       start_edit_time portal_type  connections\n",
       "32 2022-12-05 11:30:00       cloud         2076\n",
       "31 2022-12-05 11:00:00       cloud         2068\n",
       "33 2022-12-05 12:00:00       cloud         2061\n",
       "30 2022-12-05 10:30:00       cloud         2031\n",
       "29 2022-12-05 10:00:00       cloud         2020"
      ]
     },
     "execution_count": 77,
     "metadata": {},
     "output_type": "execute_result"
    }
   ],
   "source": [
    "grouped_data = data.groupby(['start_edit_time', 'portal_type'])\n",
    "max_connections = grouped_data['connections'].agg('sum')\n",
    "max_connections_df = max_connections.reset_index()\n",
    "max_connections_df = max_connections_df.sort_values(by=['start_edit_time', 'connections'], ascending=[True, False])\n",
    "max_portal_type = max_connections_df.groupby('start_edit_time').first().reset_index()\n",
    "max_portal_type  = max_portal_type.sort_values(by='connections', ascending=False)\n",
    "max_portal_type.head()"
   ]
  },
  {
   "cell_type": "code",
   "execution_count": 78,
   "metadata": {},
   "outputs": [
    {
     "data": {
      "image/png": "[encoded data removed]",
      "text/plain": [
       "<Figure size 640x480 with 1 Axes>"
      ]
     },
     "metadata": {},
     "output_type": "display_data"
    }
   ],
   "source": [
    "ax = data['portal_type'].value_counts().plot(kind='pie', wedgeprops={'edgecolor': 'white', 'linewidth': 2} , autopct='%1.1f%%')\n",
    "ax.set_title('Распределение типов портала')\n",
    "ax.set_ylabel('')\n",
    "plt.show()\n"
   ]
  },
  {
   "attachments": {},
   "cell_type": "markdown",
   "metadata": {},
   "source": [
    "Выводы: \n",
    " - Пиковое время подключений - 7 утра - 18 вечера, что соотвествует редактированию во время рабочего дня.\n",
    " - Обнаружены чрезмерно длительные подключения к документам (свыше 74 минут), они составляют 5% от общего числа подключений и могут являться причиной приближения к лимиту.\n",
    " - Список источников (tariff_id) из 88 наименований предоставлен выше, такие источники используют пользователи (свыше 3600 уникальных), выбивающиеся по времени редактирования документов.\n",
    " - Наиболее популярный сервер, с которого максимум одновременных редактирований - ms.\n",
    " - Наиболее популярный тип портала - cloud.\n",
    " - Наиболее популярный tariff_id с одновременными редактированиями - ru_pro.\n",
    " - Максимальное количество одновременных подключений - 2448, что приближенно к установленному лимиту в 3000.\n"
   ]
  },
  {
   "attachments": {},
   "cell_type": "markdown",
   "metadata": {},
   "source": [
    "Рекомендации: \n",
    "- Проверить возможные причины аномально длительного времени редактирования документов. Возможно некорректный сбор данных или особые условия пользования конкретными tariff_id.\n",
    "- В случае возможности распределить лимиты по времени уменишить пропускную способность на редактирование в промежуток с 18 до 7 с целью экономии."
   ]
  }
 ],
 "metadata": {
  "kernelspec": {
   "display_name": "Python 3",
   "language": "python",
   "name": "python3"
  },
  "language_info": {
   "codemirror_mode": {
    "name": "ipython",
    "version": 3
   },
   "file_extension": ".py",
   "mimetype": "text/x-python",
   "name": "python",
   "nbconvert_exporter": "python",
   "pygments_lexer": "ipython3",
   "version": "3.9.13"
  },
  "orig_nbformat": 4
 },
 "nbformat": 4,
 "nbformat_minor": 2
}
